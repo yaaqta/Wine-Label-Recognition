{
 "cells": [
  {
   "cell_type": "code",
   "execution_count": 1,
   "metadata": {},
   "outputs": [
    {
     "ename": "KeyboardInterrupt",
     "evalue": "",
     "output_type": "error",
     "traceback": [
      "\u001b[1;31m---------------------------------------------------------------------------\u001b[0m",
      "\u001b[1;31mKeyboardInterrupt\u001b[0m                         Traceback (most recent call last)",
      "\u001b[1;32m~\\AppData\\Local\\Temp\\ipykernel_44588\\1589523219.py\u001b[0m in \u001b[0;36m<module>\u001b[1;34m\u001b[0m\n\u001b[0;32m     16\u001b[0m \u001b[1;32mwhile\u001b[0m \u001b[1;32mTrue\u001b[0m \u001b[1;33m:\u001b[0m\u001b[1;33m\u001b[0m\u001b[1;33m\u001b[0m\u001b[0m\n\u001b[0;32m     17\u001b[0m     \u001b[1;31m# read image\u001b[0m\u001b[1;33m\u001b[0m\u001b[1;33m\u001b[0m\u001b[0m\n\u001b[1;32m---> 18\u001b[1;33m     \u001b[0mimage\u001b[0m \u001b[1;33m=\u001b[0m \u001b[0mcv2\u001b[0m\u001b[1;33m.\u001b[0m\u001b[0mimread\u001b[0m\u001b[1;33m(\u001b[0m\u001b[1;34m\"D:/E/Project/final_image_processing/test2.png\"\u001b[0m\u001b[1;33m)\u001b[0m\u001b[1;33m\u001b[0m\u001b[1;33m\u001b[0m\u001b[0m\n\u001b[0m\u001b[0;32m     19\u001b[0m \u001b[1;33m\u001b[0m\u001b[0m\n\u001b[0;32m     20\u001b[0m     \u001b[1;31m# converting frame(image == BGR) to HSV(hue-saturation-value)\u001b[0m\u001b[1;33m\u001b[0m\u001b[1;33m\u001b[0m\u001b[0m\n",
      "\u001b[1;31mKeyboardInterrupt\u001b[0m: "
     ]
    },
    {
     "ename": "",
     "evalue": "",
     "output_type": "error",
     "traceback": [
      "\u001b[1;31mThe Kernel crashed while executing code in the the current cell or a previous cell. Please review the code in the cell(s) to identify a possible cause of the failure. Click <a href='https://aka.ms/vscodeJupyterKernelCrash'>here</a> for more info. View Jupyter <a href='command:jupyter.viewOutput'>log</a> for further details."
     ]
    }
   ],
   "source": [
    "import cv2\n",
    "import numpy as np\n",
    "\n",
    "def nothing(x):\n",
    "    pass\n",
    " \n",
    "# create Trackbars\n",
    "cv2.namedWindow(\"Trackbars\")\n",
    "cv2.createTrackbar('H_min', 'Trackbars',0,179,nothing)\n",
    "cv2.createTrackbar('S_min', 'Trackbars',0,255,nothing)\n",
    "cv2.createTrackbar('V_min', 'Trackbars',0,255,nothing)\n",
    "cv2.createTrackbar('H_max', 'Trackbars',179,179,nothing)\n",
    "cv2.createTrackbar('S_max', 'Trackbars',255,255,nothing)\n",
    "cv2.createTrackbar('V_max', 'Trackbars',255,255,nothing)\n",
    " \n",
    "while True :\n",
    "    # read image\n",
    "    image = cv2.imread(\"D:/E/Project/final_image_processing/test2.png\")\n",
    " \n",
    "    # converting frame(image == BGR) to HSV(hue-saturation-value)\n",
    "    hsv = cv2.cvtColor(image, cv2.COLOR_BGR2HSV)\n",
    " \n",
    "    # get value Trackbars\n",
    "    H_min = cv2.getTrackbarPos(\"H_min\", \"Trackbars\")\n",
    "    S_min = cv2.getTrackbarPos(\"S_min\", \"Trackbars\")\n",
    "    V_min = cv2.getTrackbarPos(\"V_min\", \"Trackbars\")\n",
    "    H_max = cv2.getTrackbarPos(\"H_max\", \"Trackbars\")\n",
    "    S_max = cv2.getTrackbarPos(\"S_max\", \"Trackbars\")\n",
    "    V_max = cv2.getTrackbarPos(\"V_max\", \"Trackbars\")\n",
    "\n",
    "    # range color \n",
    "    lower_red = np.array([H_min, S_min, V_min])\n",
    "    upper_red = np.array([H_max, S_max, V_max])\n",
    " \n",
    "    # Morphological Transformations,Opening and Closing\n",
    "    thresh = cv2.inRange(hsv,lower_red, upper_red)\n",
    "    kernel = np.ones((5,5),np.uint8)\n",
    "    mask = cv2.morphologyEx(thresh, cv2.MORPH_OPEN, kernel)\n",
    "    mask = cv2.morphologyEx(mask, cv2.MORPH_CLOSE, kernel)\n",
    "    result = cv2.bitwise_and(image, image, mask = mask)\n",
    "    cv2.imshow(\"original\", image)\n",
    "    cv2.imshow(\"mask\", mask)\n",
    "    cv2.imshow(\"result\", result)\n",
    "    if cv2.waitKey(1) & 0xFF == ord('q'):\n",
    "        exit()\n",
    "cv2.destroyAllWindows()"
   ]
  },
  {
   "cell_type": "code",
   "execution_count": null,
   "metadata": {},
   "outputs": [],
   "source": []
  }
 ],
 "metadata": {
  "kernelspec": {
   "display_name": "base",
   "language": "python",
   "name": "python3"
  },
  "language_info": {
   "codemirror_mode": {
    "name": "ipython",
    "version": 3
   },
   "file_extension": ".py",
   "mimetype": "text/x-python",
   "name": "python",
   "nbconvert_exporter": "python",
   "pygments_lexer": "ipython3",
   "version": "3.9.13 (main, Aug 25 2022, 23:51:50) [MSC v.1916 64 bit (AMD64)]"
  },
  "orig_nbformat": 4,
  "vscode": {
   "interpreter": {
    "hash": "ad2bdc8ecc057115af97d19610ffacc2b4e99fae6737bb82f5d7fb13d2f2c186"
   }
  }
 },
 "nbformat": 4,
 "nbformat_minor": 2
}
